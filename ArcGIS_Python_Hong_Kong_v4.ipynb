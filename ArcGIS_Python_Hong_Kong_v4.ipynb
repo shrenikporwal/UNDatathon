{
 "cells": [
  {
   "cell_type": "markdown",
   "metadata": {
    "heading_collapsed": true
   },
   "source": [
    "## MIT License"
   ]
  },
  {
   "cell_type": "markdown",
   "metadata": {
    "hidden": true
   },
   "source": [
    "MIT License\n",
    "\n",
    "Copyright (c) 2023 Shrenik Porwal, Argy Sakti, Yashish Hirani, Abhi Vachani, Josh Finkelstein\n",
    "\n",
    "Permission is hereby granted, free of charge, to any person obtaining a copy of this software and associated documentation files (the \"Software\"), to deal in the Software without restriction, including without limitation the rights to use, copy, modify, merge, publish, distribute, sublicense, and/or sell copies of the Software, and to permit persons to whom the Software is furnished to do so, subject to the following conditions:\n",
    "\n",
    "The above copyright notice and this permission notice shall be included in all copies or substantial portions of the Software.\n",
    "\n",
    "THE SOFTWARE IS PROVIDED \"AS IS\", WITHOUT WARRANTY OF ANY KIND, EXPRESS OR IMPLIED, INCLUDING BUT NOT LIMITED TO THE WARRANTIES OF MERCHANTABILITY, FITNESS FOR A PARTICULAR PURPOSE AND NONINFRINGEMENT. IN NO EVENT SHALL THE AUTHORS OR COPYRIGHT HOLDERS BE LIABLE FOR ANY CLAIM, DAMAGES OR OTHER LIABILITY, WHETHER IN AN ACTION OF CONTRACT, TORT OR OTHERWISE, ARISING FROM, OUT OF OR IN CONNECTION WITH THE SOFTWARE OR THE USE OR OTHER DEALINGS IN THE SOFTWARE."
   ]
  },
  {
   "cell_type": "markdown",
   "metadata": {
    "heading_collapsed": true
   },
   "source": [
    "## Welcome to your notebook.\n"
   ]
  },
  {
   "cell_type": "markdown",
   "metadata": {
    "hidden": true
   },
   "source": [
    "#### Run this cell to connect to your GIS and get started:"
   ]
  },
  {
   "cell_type": "code",
   "execution_count": 6,
   "metadata": {
    "hidden": true,
    "scrolled": true
   },
   "outputs": [
    {
     "name": "stderr",
     "output_type": "stream",
     "text": [
      "/opt/conda/lib/python3.9/site-packages/arcgis/gis/__init__.py:703: UserWarning: You are logged on as argysakti with an administrator role, proceed with caution.\n",
      "  warnings.warn(\n"
     ]
    }
   ],
   "source": [
    "from arcgis.gis import GIS\n",
    "gis = GIS(\"home\")"
   ]
  },
  {
   "cell_type": "markdown",
   "metadata": {
    "heading_collapsed": true
   },
   "source": [
    "## Import the WebMap Data"
   ]
  },
  {
   "cell_type": "code",
   "execution_count": 7,
   "metadata": {
    "hidden": true
   },
   "outputs": [],
   "source": [
    "from arcgis.mapping import WebMap\n",
    "# Access the HK WebMap\n",
    "web_map_item = gis.content.get('ff500c41fb6240b183187c32b5162d95') \n",
    "\n",
    "# Create a WebMap object from the web map item\n",
    "web_map = WebMap(web_map_item)"
   ]
  },
  {
   "cell_type": "code",
   "execution_count": 8,
   "metadata": {
    "hidden": true
   },
   "outputs": [
    {
     "name": "stdout",
     "output_type": "stream",
     "text": [
      "HK Metro Points KML\n",
      "Hexes with subway bus count area and income\n",
      "Hexes with bus count area and income\n",
      "Bus Stops in Hong Kong \n",
      "HK POI 1\n",
      "HK Population Density\n",
      "HK Income 1\n"
     ]
    }
   ],
   "source": [
    "# Determine the layers that exist in the Web Map\n",
    "for layer in web_map.layers:\n",
    "    print(layer.title) "
   ]
  },
  {
   "cell_type": "markdown",
   "metadata": {
    "heading_collapsed": true
   },
   "source": [
    "## Clean the WebMap Data"
   ]
  },
  {
   "cell_type": "markdown",
   "metadata": {
    "hidden": true
   },
   "source": [
    "#### Clean the ArcGis Dataset containing H3 Data of Multiple Categories"
   ]
  },
  {
   "cell_type": "code",
   "execution_count": 11,
   "metadata": {
    "hidden": true
   },
   "outputs": [
    {
     "data": {
      "text/html": [
       "<div>\n",
       "<style scoped>\n",
       "    .dataframe tbody tr th:only-of-type {\n",
       "        vertical-align: middle;\n",
       "    }\n",
       "\n",
       "    .dataframe tbody tr th {\n",
       "        vertical-align: top;\n",
       "    }\n",
       "\n",
       "    .dataframe thead th {\n",
       "        text-align: right;\n",
       "    }\n",
       "</style>\n",
       "<table border=\"1\" class=\"dataframe\">\n",
       "  <thead>\n",
       "    <tr style=\"text-align: right;\">\n",
       "      <th></th>\n",
       "      <th>FID</th>\n",
       "      <th>t_mmearn_x</th>\n",
       "      <th>h3</th>\n",
       "      <th>population</th>\n",
       "      <th>area</th>\n",
       "      <th>NUMPOINTS</th>\n",
       "      <th>Num_Bus_St</th>\n",
       "      <th>num_subway</th>\n",
       "    </tr>\n",
       "  </thead>\n",
       "  <tbody>\n",
       "    <tr>\n",
       "      <th>0</th>\n",
       "      <td>1</td>\n",
       "      <td>23750</td>\n",
       "      <td>88411cb35bfffff</td>\n",
       "      <td>33208.0</td>\n",
       "      <td>0.000002</td>\n",
       "      <td>11.0</td>\n",
       "      <td>2.0</td>\n",
       "      <td>0.0</td>\n",
       "    </tr>\n",
       "    <tr>\n",
       "      <th>1</th>\n",
       "      <td>2</td>\n",
       "      <td>23750</td>\n",
       "      <td>88411cb26bfffff</td>\n",
       "      <td>8137.0</td>\n",
       "      <td>0.000003</td>\n",
       "      <td>1.0</td>\n",
       "      <td>1.0</td>\n",
       "      <td>0.0</td>\n",
       "    </tr>\n",
       "    <tr>\n",
       "      <th>2</th>\n",
       "      <td>3</td>\n",
       "      <td>23750</td>\n",
       "      <td>88411cb267fffff</td>\n",
       "      <td>33213.0</td>\n",
       "      <td>0.000036</td>\n",
       "      <td>195.0</td>\n",
       "      <td>15.0</td>\n",
       "      <td>0.0</td>\n",
       "    </tr>\n",
       "    <tr>\n",
       "      <th>3</th>\n",
       "      <td>4</td>\n",
       "      <td>23750</td>\n",
       "      <td>88411cb265fffff</td>\n",
       "      <td>33209.0</td>\n",
       "      <td>0.00001</td>\n",
       "      <td>14.0</td>\n",
       "      <td>3.0</td>\n",
       "      <td>0.0</td>\n",
       "    </tr>\n",
       "    <tr>\n",
       "      <th>4</th>\n",
       "      <td>5</td>\n",
       "      <td>23750</td>\n",
       "      <td>88411cb263fffff</td>\n",
       "      <td>5143.0</td>\n",
       "      <td>0.000061</td>\n",
       "      <td>17.0</td>\n",
       "      <td>11.0</td>\n",
       "      <td>0.0</td>\n",
       "    </tr>\n",
       "  </tbody>\n",
       "</table>\n",
       "</div>"
      ],
      "text/plain": [
       "   FID  t_mmearn_x               h3  population      area  NUMPOINTS  \\\n",
       "0    1       23750  88411cb35bfffff     33208.0  0.000002       11.0   \n",
       "1    2       23750  88411cb26bfffff      8137.0  0.000003        1.0   \n",
       "2    3       23750  88411cb267fffff     33213.0  0.000036      195.0   \n",
       "3    4       23750  88411cb265fffff     33209.0   0.00001       14.0   \n",
       "4    5       23750  88411cb263fffff      5143.0  0.000061       17.0   \n",
       "\n",
       "   Num_Bus_St  num_subway  \n",
       "0         2.0         0.0  \n",
       "1         1.0         0.0  \n",
       "2        15.0         0.0  \n",
       "3         3.0         0.0  \n",
       "4        11.0         0.0  "
      ]
     },
     "execution_count": 11,
     "metadata": {},
     "output_type": "execute_result"
    }
   ],
   "source": [
    "from arcgis.features import FeatureLayer\n",
    "# URL for ..\n",
    "feature_layer_url = web_map.layers[1].url\n",
    "\n",
    "# Create a FeatureLayer object\n",
    "feature_layer = FeatureLayer(feature_layer_url)\n",
    "\n",
    "# Query the feature layer for specific data\n",
    "# For example, let's query for all features, retrieving all fields\n",
    "query_result = feature_layer.query()\n",
    "\n",
    "# Convert the FeatureSet to a DataFrame\n",
    "df = query_result.sdf\n",
    "\n",
    "# t_mmearn_x = median income, h3, population = population NUMPOINTS = num of points of interest, area = area, Num_Bus_St\n",
    "df = df[['FID', 't_mmearn_x', 'h3', 'population', 'area', 'NUMPOINTS', 'Num_Bus_St', 'num_subway']]\n",
    "df.head()"
   ]
  },
  {
   "cell_type": "code",
   "execution_count": 12,
   "metadata": {
    "hidden": true,
    "scrolled": true
   },
   "outputs": [
    {
     "data": {
      "text/html": [
       "<div>\n",
       "<style scoped>\n",
       "    .dataframe tbody tr th:only-of-type {\n",
       "        vertical-align: middle;\n",
       "    }\n",
       "\n",
       "    .dataframe tbody tr th {\n",
       "        vertical-align: top;\n",
       "    }\n",
       "\n",
       "    .dataframe thead th {\n",
       "        text-align: right;\n",
       "    }\n",
       "</style>\n",
       "<table border=\"1\" class=\"dataframe\">\n",
       "  <thead>\n",
       "    <tr style=\"text-align: right;\">\n",
       "      <th></th>\n",
       "      <th>h3</th>\n",
       "      <th>total_area</th>\n",
       "      <th>weighted_median_income</th>\n",
       "      <th>population</th>\n",
       "      <th>poi_count</th>\n",
       "      <th>bus_st_count</th>\n",
       "      <th>subway_st_count</th>\n",
       "      <th>public_transport_stations</th>\n",
       "    </tr>\n",
       "  </thead>\n",
       "  <tbody>\n",
       "    <tr>\n",
       "      <th>0</th>\n",
       "      <td>8841034805fffff</td>\n",
       "      <td>0.000017</td>\n",
       "      <td>20000.000000</td>\n",
       "      <td>17.0</td>\n",
       "      <td>4.0</td>\n",
       "      <td>0.0</td>\n",
       "      <td>0.0</td>\n",
       "      <td>0.0</td>\n",
       "    </tr>\n",
       "    <tr>\n",
       "      <th>1</th>\n",
       "      <td>8841034821fffff</td>\n",
       "      <td>0.000044</td>\n",
       "      <td>65000.000000</td>\n",
       "      <td>295.0</td>\n",
       "      <td>7.0</td>\n",
       "      <td>0.0</td>\n",
       "      <td>0.0</td>\n",
       "      <td>0.0</td>\n",
       "    </tr>\n",
       "    <tr>\n",
       "      <th>2</th>\n",
       "      <td>8841034825fffff</td>\n",
       "      <td>0.000063</td>\n",
       "      <td>65000.000000</td>\n",
       "      <td>95.0</td>\n",
       "      <td>2.0</td>\n",
       "      <td>3.0</td>\n",
       "      <td>0.0</td>\n",
       "      <td>3.0</td>\n",
       "    </tr>\n",
       "    <tr>\n",
       "      <th>3</th>\n",
       "      <td>8841034827fffff</td>\n",
       "      <td>0.000020</td>\n",
       "      <td>64828.035636</td>\n",
       "      <td>2472.0</td>\n",
       "      <td>10.0</td>\n",
       "      <td>3.0</td>\n",
       "      <td>0.0</td>\n",
       "      <td>3.0</td>\n",
       "    </tr>\n",
       "    <tr>\n",
       "      <th>4</th>\n",
       "      <td>8841034829fffff</td>\n",
       "      <td>0.000043</td>\n",
       "      <td>28047.768876</td>\n",
       "      <td>4166.0</td>\n",
       "      <td>8.0</td>\n",
       "      <td>11.0</td>\n",
       "      <td>0.0</td>\n",
       "      <td>11.0</td>\n",
       "    </tr>\n",
       "  </tbody>\n",
       "</table>\n",
       "</div>"
      ],
      "text/plain": [
       "                h3  total_area  weighted_median_income  population  poi_count  \\\n",
       "0  8841034805fffff    0.000017            20000.000000        17.0        4.0   \n",
       "1  8841034821fffff    0.000044            65000.000000       295.0        7.0   \n",
       "2  8841034825fffff    0.000063            65000.000000        95.0        2.0   \n",
       "3  8841034827fffff    0.000020            64828.035636      2472.0       10.0   \n",
       "4  8841034829fffff    0.000043            28047.768876      4166.0        8.0   \n",
       "\n",
       "   bus_st_count  subway_st_count  public_transport_stations  \n",
       "0           0.0              0.0                        0.0  \n",
       "1           0.0              0.0                        0.0  \n",
       "2           3.0              0.0                        3.0  \n",
       "3           3.0              0.0                        3.0  \n",
       "4          11.0              0.0                       11.0  "
      ]
     },
     "execution_count": 12,
     "metadata": {},
     "output_type": "execute_result"
    }
   ],
   "source": [
    "import pandas as pd\n",
    "\n",
    "# weighted median income = Summation ( area i /(total area in hex) ) * t_mmearn_xi \n",
    "# Step 1: Group by 'h3_index' and calculate the total area, weighted median income, and total population\n",
    "grouped = df.groupby('h3').apply(lambda x: pd.Series({\n",
    "    'total_area': x['area'].sum(),\n",
    "    'weighted_median_income': (x['area'] / x['area'].sum() * x['t_mmearn_x']).sum(),\n",
    "    'population': x['population'].sum(),\n",
    "    'poi_count': x['NUMPOINTS'].sum(),\n",
    "    'bus_st_count': x['Num_Bus_St'].sum(),\n",
    "    'subway_st_count': x['num_subway'].max()\n",
    "})).reset_index()\n",
    "\n",
    "sub_weight = grouped['bus_st_count'].sum() / grouped['subway_st_count'].sum() # Subway weight = total number of bus stations / total number of subway stations\n",
    "grouped['public_transport_stations'] = grouped['bus_st_count'] + (sub_weight * grouped['subway_st_count'])\n",
    "grouped.head()"
   ]
  },
  {
   "cell_type": "markdown",
   "metadata": {
    "heading_collapsed": true
   },
   "source": [
    "## Data Analysis"
   ]
  },
  {
   "cell_type": "markdown",
   "metadata": {
    "hidden": true
   },
   "source": [
    "#### Analysis of Individual Independent Variables"
   ]
  },
  {
   "cell_type": "code",
   "execution_count": 13,
   "metadata": {
    "hidden": true
   },
   "outputs": [
    {
     "name": "stdout",
     "output_type": "stream",
     "text": [
      "                           weighted_median_income  population  poi_count  \\\n",
      "weighted_median_income                   1.000000   -0.047703   0.027143   \n",
      "population                              -0.047703    1.000000   0.593189   \n",
      "poi_count                                0.027143    0.593189   1.000000   \n",
      "public_transport_stations               -0.002739    0.761787   0.660216   \n",
      "\n",
      "                           public_transport_stations  \n",
      "weighted_median_income                     -0.002739  \n",
      "population                                  0.761787  \n",
      "poi_count                                   0.660216  \n",
      "public_transport_stations                   1.000000  \n"
     ]
    }
   ],
   "source": [
    "import pandas as pd\n",
    "import seaborn as sns\n",
    "import matplotlib.pyplot as plt\n",
    "\n",
    "# Calculate the correlation matrix\n",
    "correlation_matrix = grouped[['weighted_median_income', 'population', 'poi_count', 'public_transport_stations']].corr()\n",
    "print(correlation_matrix)"
   ]
  },
  {
   "cell_type": "code",
   "execution_count": 14,
   "metadata": {
    "hidden": true
   },
   "outputs": [],
   "source": [
    "# Create scatter plots\n",
    "#sns.pairplot(grouped, x_vars=['weighted_median_income', 'population', 'poi_count'], y_vars='public_transport_stations', kind='scatter')\n",
    "#plt.show()"
   ]
  },
  {
   "cell_type": "code",
   "execution_count": 15,
   "metadata": {
    "hidden": true
   },
   "outputs": [
    {
     "name": "stdout",
     "output_type": "stream",
     "text": [
      "Regression Analysis for: weighted_median_income\n",
      "                                OLS Regression Results                               \n",
      "=====================================================================================\n",
      "Dep. Variable:     public_transport_stations   R-squared:                       0.000\n",
      "Model:                                   OLS   Adj. R-squared:                 -0.001\n",
      "Method:                        Least Squares   F-statistic:                  0.009680\n",
      "Date:                       Mon, 06 Nov 2023   Prob (F-statistic):              0.922\n",
      "Time:                               11:29:39   Log-Likelihood:                -5191.2\n",
      "No. Observations:                       1292   AIC:                         1.039e+04\n",
      "Df Residuals:                           1290   BIC:                         1.040e+04\n",
      "Df Model:                                  1                                         \n",
      "Covariance Type:                   nonrobust                                         \n",
      "==========================================================================================\n",
      "                             coef    std err          t      P>|t|      [0.025      0.975]\n",
      "------------------------------------------------------------------------------------------\n",
      "const                      6.6836      0.967      6.915      0.000       4.787       8.580\n",
      "weighted_median_income -3.649e-06   3.71e-05     -0.098      0.922   -7.64e-05    6.91e-05\n",
      "==============================================================================\n",
      "Omnibus:                      896.168   Durbin-Watson:                   0.942\n",
      "Prob(Omnibus):                  0.000   Jarque-Bera (JB):            10880.077\n",
      "Skew:                           3.177   Prob(JB):                         0.00\n",
      "Kurtosis:                      15.718   Cond. No.                     6.73e+04\n",
      "==============================================================================\n",
      "\n",
      "Notes:\n",
      "[1] Standard Errors assume that the covariance matrix of the errors is correctly specified.\n",
      "[2] The condition number is large, 6.73e+04. This might indicate that there are\n",
      "strong multicollinearity or other numerical problems.\n",
      "\n",
      "\n",
      "\n",
      "Regression Analysis for: population\n",
      "                                OLS Regression Results                               \n",
      "=====================================================================================\n",
      "Dep. Variable:     public_transport_stations   R-squared:                       0.580\n",
      "Model:                                   OLS   Adj. R-squared:                  0.580\n",
      "Method:                        Least Squares   F-statistic:                     1784.\n",
      "Date:                       Mon, 06 Nov 2023   Prob (F-statistic):          1.77e-245\n",
      "Time:                               11:29:39   Log-Likelihood:                -4630.3\n",
      "No. Observations:                       1292   AIC:                             9265.\n",
      "Df Residuals:                           1290   BIC:                             9275.\n",
      "Df Model:                                  1                                         \n",
      "Covariance Type:                   nonrobust                                         \n",
      "==============================================================================\n",
      "                 coef    std err          t      P>|t|      [0.025      0.975]\n",
      "------------------------------------------------------------------------------\n",
      "const          2.1702      0.264      8.212      0.000       1.652       2.689\n",
      "population     0.0003   6.05e-06     42.235      0.000       0.000       0.000\n",
      "==============================================================================\n",
      "Omnibus:                      982.765   Durbin-Watson:                   1.663\n",
      "Prob(Omnibus):                  0.000   Jarque-Bera (JB):            54621.607\n",
      "Skew:                           2.986   Prob(JB):                         0.00\n",
      "Kurtosis:                      34.289   Cond. No.                     4.76e+04\n",
      "==============================================================================\n",
      "\n",
      "Notes:\n",
      "[1] Standard Errors assume that the covariance matrix of the errors is correctly specified.\n",
      "[2] The condition number is large, 4.76e+04. This might indicate that there are\n",
      "strong multicollinearity or other numerical problems.\n",
      "\n",
      "\n",
      "\n",
      "Regression Analysis for: poi_count\n",
      "                                OLS Regression Results                               \n",
      "=====================================================================================\n",
      "Dep. Variable:     public_transport_stations   R-squared:                       0.436\n",
      "Model:                                   OLS   Adj. R-squared:                  0.435\n",
      "Method:                        Least Squares   F-statistic:                     996.8\n",
      "Date:                       Mon, 06 Nov 2023   Prob (F-statistic):          1.44e-162\n",
      "Time:                               11:29:39   Log-Likelihood:                -4821.3\n",
      "No. Observations:                       1292   AIC:                             9647.\n",
      "Df Residuals:                           1290   BIC:                             9657.\n",
      "Df Model:                                  1                                         \n",
      "Covariance Type:                   nonrobust                                         \n",
      "==============================================================================\n",
      "                 coef    std err          t      P>|t|      [0.025      0.975]\n",
      "------------------------------------------------------------------------------\n",
      "const          3.7626      0.295     12.744      0.000       3.183       4.342\n",
      "poi_count      0.1632      0.005     31.572      0.000       0.153       0.173\n",
      "==============================================================================\n",
      "Omnibus:                      626.884   Durbin-Watson:                   1.291\n",
      "Prob(Omnibus):                  0.000   Jarque-Bera (JB):             7439.344\n",
      "Skew:                           1.947   Prob(JB):                         0.00\n",
      "Kurtosis:                      14.092   Cond. No.                         60.0\n",
      "==============================================================================\n",
      "\n",
      "Notes:\n",
      "[1] Standard Errors assume that the covariance matrix of the errors is correctly specified.\n",
      "\n",
      "\n",
      "\n"
     ]
    }
   ],
   "source": [
    "import statsmodels.api as sm\n",
    "\n",
    "# Perform regression analysis for each independent variable\n",
    "for independent_var in ['weighted_median_income', 'population', 'poi_count']:\n",
    "    X = grouped[[independent_var]]\n",
    "    X = sm.add_constant(X)  # Adds a constant term to the predictor\n",
    "    y = grouped['public_transport_stations']\n",
    "\n",
    "    model = sm.OLS(y, X).fit()\n",
    "    print(f'Regression Analysis for: {independent_var}')\n",
    "    print(model.summary())\n",
    "    print(\"\\n\\n\")"
   ]
  },
  {
   "cell_type": "markdown",
   "metadata": {
    "hidden": true
   },
   "source": [
    "#### Multivariate Regression"
   ]
  },
  {
   "cell_type": "code",
   "execution_count": 17,
   "metadata": {
    "hidden": true
   },
   "outputs": [
    {
     "name": "stdout",
     "output_type": "stream",
     "text": [
      "Coefficients: [0.00019451 0.08044004]\n",
      "Intercept: 2.015037592637415\n",
      "Mean Squared Error: 38.28851253128892\n",
      "R2 Score: 0.7279653036877642\n",
      "Mean Squared Error: 38.28851253128892\n",
      "R2 Score: 0.7279653036877642\n"
     ]
    },
    {
     "name": "stderr",
     "output_type": "stream",
     "text": [
      "/tmp/ipykernel_169/91369163.py:39: MatplotlibDeprecationWarning: The seaborn styles shipped by Matplotlib are deprecated since 3.6, as they no longer correspond to the styles shipped by seaborn. However, they will remain available as 'seaborn-v0_8-<style>'. Alternatively, directly use the seaborn API instead.\n",
      "  plt.style.use('seaborn-darkgrid')\n"
     ]
    },
    {
     "data": {
      "image/png": "[encoded data removed]",
      "text/plain": [
       "<Figure size 1000x800 with 1 Axes>"
      ]
     },
     "metadata": {},
     "output_type": "display_data"
    }
   ],
   "source": [
    "# Now we run a regression of the model\n",
    "import numpy as np\n",
    "import matplotlib.pyplot as plt\n",
    "from sklearn.model_selection import train_test_split\n",
    "from sklearn.linear_model import LinearRegression\n",
    "from sklearn.metrics import mean_squared_error, r2_score\n",
    "\n",
    "# Splitting the dataset into training and testing sets\n",
    "X = grouped[['population','poi_count',]]\n",
    "y = grouped['public_transport_stations']\n",
    "X_train, X_test, y_train, y_test = train_test_split(X, y, test_size=0.2, random_state=42)\n",
    "\n",
    "# Training a linear regression model\n",
    "regressor = LinearRegression()\n",
    "regressor.fit(X_train, y_train)\n",
    "\n",
    "# Predicting the population on the testing set\n",
    "y_pred = regressor.predict(X_test)\n",
    "\n",
    "# Printing the coefficients and intercept\n",
    "print(f\"Coefficients: {regressor.coef_}\")\n",
    "print(f\"Intercept: {regressor.intercept_}\")\n",
    "\n",
    "# Calculating and printing the performance metrics\n",
    "print(f\"Mean Squared Error: {mean_squared_error(y_test, y_pred)}\")\n",
    "print(f\"R2 Score: {r2_score(y_test, y_pred)}\")\n",
    "\n",
    "# Calculating and printing the performance metrics\n",
    "mse = mean_squared_error(y_test, y_pred)\n",
    "print(f\"Mean Squared Error: {mean_squared_error(y_test, y_pred)}\")\n",
    "r2 = r2_score(y_test, y_pred)\n",
    "print(f\"R2 Score: {r2_score(y_test, y_pred)}\")\n",
    "\n",
    "# Visualizing the results\n",
    "# Ensure that fonts are large enough to read and the plot is a good size\n",
    "plt.figure(figsize=(10, 8))\n",
    "\n",
    "# Use a consistent and appealing style\n",
    "plt.style.use('seaborn-darkgrid')\n",
    "\n",
    "# Scatter plot with appropriate marker size and edgecolor for better visibility\n",
    "plt.scatter(y_test, y_pred, label='Data points', alpha=0.6, edgecolors='w', s=50)\n",
    "\n",
    "# Ideal fit line with clear color\n",
    "plt.plot([y_test.min(), y_test.max()], [y_test.min(), y_test.max()], 'r--', label='Ideal fit', linewidth=2)\n",
    "\n",
    "# Legend with semi-transparent background\n",
    "legend = plt.legend(frameon=True)\n",
    "legend.get_frame().set_alpha(0.7)\n",
    "legend.get_frame().set_edgecolor('black')\n",
    "\n",
    "# Annotations with buffer space from the edge, larger font size, and a background color for readability\n",
    "plt.text(0.02, 0.89, f'R2 Score: {r2:.2f}', fontsize=12, transform=plt.gca().transAxes,\n",
    "         verticalalignment='top', bbox=dict(boxstyle='round', facecolor='white', alpha=0.5))\n",
    "plt.text(0.02, 0.84, f'Mean Squared Error: {mse:.2f}', fontsize=12, transform=plt.gca().transAxes,\n",
    "         verticalalignment='top', bbox=dict(boxstyle='round', facecolor='white', alpha=0.5))\n",
    "\n",
    "# Axis labels and title with increased font size for better readability\n",
    "plt.xlabel(\"Actual Weighted Public Transport Prevalence\", fontsize=12)\n",
    "plt.ylabel(\"Predicted Weighted Public Transport Prevalence\", fontsize=12)\n",
    "plt.title(\"Hong Kong Actual vs Predicted Weighted Public Transport Prevalence\", fontsize=14)\n",
    "\n",
    "# Display the grid lines as a background to the plot\n",
    "plt.grid(True, linestyle='--', alpha=0.7)\n",
    "\n",
    "# Show the plot\n",
    "plt.show()"
   ]
  },
  {
   "cell_type": "markdown",
   "metadata": {
    "heading_collapsed": true
   },
   "source": [
    "## Export Clean Grouped Dataset to CVS"
   ]
  },
  {
   "cell_type": "code",
   "execution_count": null,
   "metadata": {
    "hidden": true
   },
   "outputs": [],
   "source": [
    "from IPython.display import FileLink, display\n",
    "grouped.to_csv('hong_kong.csv', index=False)\n",
    "display(FileLink('hong_kong.csv'))"
   ]
  },
  {
   "cell_type": "code",
   "execution_count": null,
   "metadata": {
    "hidden": true
   },
   "outputs": [],
   "source": []
  }
 ],
 "metadata": {
  "esriNotebookRuntime": {
   "notebookRuntimeName": "ArcGIS Notebook Python 3 Standard",
   "notebookRuntimeVersion": "9.0"
  },
  "kernelspec": {
   "display_name": "Python 3 (ipykernel)",
   "language": "python",
   "name": "python3"
  },
  "language_info": {
   "codemirror_mode": {
    "name": "ipython",
    "version": 3
   },
   "file_extension": ".py",
   "mimetype": "text/x-python",
   "name": "python",
   "nbconvert_exporter": "python",
   "pygments_lexer": "ipython3",
   "version": "3.9.18"
  }
 },
 "nbformat": 4,
 "nbformat_minor": 2
}
