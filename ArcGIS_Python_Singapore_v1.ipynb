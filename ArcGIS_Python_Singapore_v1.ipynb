{
 "cells": [
  {
   "cell_type": "markdown",
   "metadata": {
    "heading_collapsed": true
   },
   "source": [
    "## MIT License"
   ]
  },
  {
   "cell_type": "markdown",
   "metadata": {
    "hidden": true
   },
   "source": [
    "MIT License\n",
    "\n",
    "Copyright (c) 2023 Shrenik Porwal, Argy Sakti, Yashish Hirani, Abhi Vachani, Josh Finkelstein\n",
    "\n",
    "Permission is hereby granted, free of charge, to any person obtaining a copy of this software and associated documentation files (the \"Software\"), to deal in the Software without restriction, including without limitation the rights to use, copy, modify, merge, publish, distribute, sublicense, and/or sell copies of the Software, and to permit persons to whom the Software is furnished to do so, subject to the following conditions:\n",
    "\n",
    "The above copyright notice and this permission notice shall be included in all copies or substantial portions of the Software.\n",
    "\n",
    "THE SOFTWARE IS PROVIDED \"AS IS\", WITHOUT WARRANTY OF ANY KIND, EXPRESS OR IMPLIED, INCLUDING BUT NOT LIMITED TO THE WARRANTIES OF MERCHANTABILITY, FITNESS FOR A PARTICULAR PURPOSE AND NONINFRINGEMENT. IN NO EVENT SHALL THE AUTHORS OR COPYRIGHT HOLDERS BE LIABLE FOR ANY CLAIM, DAMAGES OR OTHER LIABILITY, WHETHER IN AN ACTION OF CONTRACT, TORT OR OTHERWISE, ARISING FROM, OUT OF OR IN CONNECTION WITH THE SOFTWARE OR THE USE OR OTHER DEALINGS IN THE SOFTWARE."
   ]
  },
  {
   "cell_type": "markdown",
   "metadata": {
    "heading_collapsed": true
   },
   "source": [
    "## Welcome to your notebook.\n"
   ]
  },
  {
   "cell_type": "markdown",
   "metadata": {
    "hidden": true
   },
   "source": [
    "#### Run this cell to connect to your GIS and get started:"
   ]
  },
  {
   "cell_type": "code",
   "execution_count": 2,
   "metadata": {
    "hidden": true
   },
   "outputs": [
    {
     "name": "stderr",
     "output_type": "stream",
     "text": [
      "/opt/conda/lib/python3.9/site-packages/arcgis/gis/__init__.py:703: UserWarning: You are logged on as argysakti with an administrator role, proceed with caution.\n",
      "  warnings.warn(\n"
     ]
    }
   ],
   "source": [
    "from arcgis.gis import GIS\n",
    "gis = GIS(\"home\")"
   ]
  },
  {
   "cell_type": "markdown",
   "metadata": {
    "heading_collapsed": true
   },
   "source": [
    "## Import the WebMap Data"
   ]
  },
  {
   "cell_type": "code",
   "execution_count": 3,
   "metadata": {
    "hidden": true
   },
   "outputs": [],
   "source": [
    "from arcgis.mapping import WebMap\n",
    "# Access the Singapore WebMap\n",
    "web_map_item = gis.content.get('4a5f3f69579f4b7995135d86e98d4156') \n",
    "\n",
    "# Create a WebMap object from the web map item\n",
    "web_map = WebMap(web_map_item)"
   ]
  },
  {
   "cell_type": "code",
   "execution_count": 4,
   "metadata": {
    "hidden": true
   },
   "outputs": [
    {
     "name": "stdout",
     "output_type": "stream",
     "text": [
      "Sg MRT Stations \n",
      "Sg hexes with subway bus count income and area\n",
      "sg hexes with bus count income and area\n",
      "Sg Bus Stops \n",
      "Sg Pop Density-Copy\n",
      "Sg POI\n",
      "Sg Pop Density\n",
      "sg income 3\n"
     ]
    }
   ],
   "source": [
    "# Determine the layers that exist in the Web Map\n",
    "for layer in web_map.layers:\n",
    "    print(layer.title) "
   ]
  },
  {
   "cell_type": "markdown",
   "metadata": {
    "heading_collapsed": true
   },
   "source": [
    "## Clean the WebMap Data"
   ]
  },
  {
   "cell_type": "code",
   "execution_count": 5,
   "metadata": {
    "hidden": true,
    "scrolled": true
   },
   "outputs": [
    {
     "data": {
      "text/html": [
       "<div>\n",
       "<style scoped>\n",
       "    .dataframe tbody tr th:only-of-type {\n",
       "        vertical-align: middle;\n",
       "    }\n",
       "\n",
       "    .dataframe tbody tr th {\n",
       "        vertical-align: top;\n",
       "    }\n",
       "\n",
       "    .dataframe thead th {\n",
       "        text-align: right;\n",
       "    }\n",
       "</style>\n",
       "<table border=\"1\" class=\"dataframe\">\n",
       "  <thead>\n",
       "    <tr style=\"text-align: right;\">\n",
       "      <th></th>\n",
       "      <th>FID</th>\n",
       "      <th>MEDIAN_INC</th>\n",
       "      <th>h3</th>\n",
       "      <th>population</th>\n",
       "      <th>area</th>\n",
       "      <th>NUMPOINTS</th>\n",
       "      <th>num_bus_st</th>\n",
       "      <th>num_subway</th>\n",
       "    </tr>\n",
       "  </thead>\n",
       "  <tbody>\n",
       "    <tr>\n",
       "      <th>0</th>\n",
       "      <td>1</td>\n",
       "      <td>3500</td>\n",
       "      <td>88652636edfffff</td>\n",
       "      <td>8950.0</td>\n",
       "      <td>659467.280597</td>\n",
       "      <td>3.0</td>\n",
       "      <td>3.0</td>\n",
       "      <td>0.0</td>\n",
       "    </tr>\n",
       "    <tr>\n",
       "      <th>1</th>\n",
       "      <td>2</td>\n",
       "      <td>3500</td>\n",
       "      <td>88652636ebfffff</td>\n",
       "      <td>21622.0</td>\n",
       "      <td>833875.828359</td>\n",
       "      <td>42.0</td>\n",
       "      <td>17.0</td>\n",
       "      <td>2.0</td>\n",
       "    </tr>\n",
       "    <tr>\n",
       "      <th>2</th>\n",
       "      <td>3</td>\n",
       "      <td>3500</td>\n",
       "      <td>88652636e9fffff</td>\n",
       "      <td>5415.0</td>\n",
       "      <td>833819.534926</td>\n",
       "      <td>56.0</td>\n",
       "      <td>4.0</td>\n",
       "      <td>1.0</td>\n",
       "    </tr>\n",
       "    <tr>\n",
       "      <th>3</th>\n",
       "      <td>4</td>\n",
       "      <td>3500</td>\n",
       "      <td>88652636e7fffff</td>\n",
       "      <td>5.0</td>\n",
       "      <td>327700.398575</td>\n",
       "      <td>0.0</td>\n",
       "      <td>0.0</td>\n",
       "      <td>0.0</td>\n",
       "    </tr>\n",
       "    <tr>\n",
       "      <th>4</th>\n",
       "      <td>5</td>\n",
       "      <td>3500</td>\n",
       "      <td>88652636e5fffff</td>\n",
       "      <td>334.0</td>\n",
       "      <td>477581.443253</td>\n",
       "      <td>1.0</td>\n",
       "      <td>1.0</td>\n",
       "      <td>0.0</td>\n",
       "    </tr>\n",
       "  </tbody>\n",
       "</table>\n",
       "</div>"
      ],
      "text/plain": [
       "   FID  MEDIAN_INC               h3  population           area  NUMPOINTS  \\\n",
       "0    1        3500  88652636edfffff      8950.0  659467.280597        3.0   \n",
       "1    2        3500  88652636ebfffff     21622.0  833875.828359       42.0   \n",
       "2    3        3500  88652636e9fffff      5415.0  833819.534926       56.0   \n",
       "3    4        3500  88652636e7fffff         5.0  327700.398575        0.0   \n",
       "4    5        3500  88652636e5fffff       334.0  477581.443253        1.0   \n",
       "\n",
       "   num_bus_st  num_subway  \n",
       "0         3.0         0.0  \n",
       "1        17.0         2.0  \n",
       "2         4.0         1.0  \n",
       "3         0.0         0.0  \n",
       "4         1.0         0.0  "
      ]
     },
     "execution_count": 5,
     "metadata": {},
     "output_type": "execute_result"
    }
   ],
   "source": [
    "from arcgis.features import FeatureLayer\n",
    "# URL for ..\n",
    "feature_layer_url = web_map.layers[1].url\n",
    "\n",
    "# Create a FeatureLayer object\n",
    "feature_layer = FeatureLayer(feature_layer_url)\n",
    "\n",
    "# Query the feature layer for specific data\n",
    "# For example, let's query for all features, retrieving all fields\n",
    "query_result = feature_layer.query()\n",
    "\n",
    "# Convert the FeatureSet to a DataFrame\n",
    "df = query_result.sdf\n",
    "\n",
    "# t_mmearn_x = median income, h3, population = population NUMPOINTS = num of points of interest, area = area, Num_Bus_St\n",
    "df = df[['FID', 'MEDIAN_INC', 'h3', 'population', 'area', 'NUMPOINTS', 'num_bus_st', 'num_subway']]\n",
    "df.head()"
   ]
  },
  {
   "cell_type": "markdown",
   "metadata": {
    "heading_collapsed": true
   },
   "source": [
    "## Perform Analysis"
   ]
  },
  {
   "cell_type": "code",
   "execution_count": 6,
   "metadata": {
    "hidden": true,
    "scrolled": true
   },
   "outputs": [
    {
     "data": {
      "text/html": [
       "<div>\n",
       "<style scoped>\n",
       "    .dataframe tbody tr th:only-of-type {\n",
       "        vertical-align: middle;\n",
       "    }\n",
       "\n",
       "    .dataframe tbody tr th {\n",
       "        vertical-align: top;\n",
       "    }\n",
       "\n",
       "    .dataframe thead th {\n",
       "        text-align: right;\n",
       "    }\n",
       "</style>\n",
       "<table border=\"1\" class=\"dataframe\">\n",
       "  <thead>\n",
       "    <tr style=\"text-align: right;\">\n",
       "      <th></th>\n",
       "      <th>h3</th>\n",
       "      <th>total_area</th>\n",
       "      <th>weighted_median_income</th>\n",
       "      <th>population</th>\n",
       "      <th>poi_count</th>\n",
       "      <th>bus_st_count</th>\n",
       "      <th>subway_st_count</th>\n",
       "      <th>public_transport_stations</th>\n",
       "    </tr>\n",
       "  </thead>\n",
       "  <tbody>\n",
       "    <tr>\n",
       "      <th>66</th>\n",
       "      <td>886520c12dfffff</td>\n",
       "      <td>757980.495632</td>\n",
       "      <td>91.512028</td>\n",
       "      <td>744.0</td>\n",
       "      <td>0.0</td>\n",
       "      <td>1.0</td>\n",
       "      <td>0.0</td>\n",
       "      <td>1.0</td>\n",
       "    </tr>\n",
       "    <tr>\n",
       "      <th>90</th>\n",
       "      <td>886520c165fffff</td>\n",
       "      <td>272415.451272</td>\n",
       "      <td>3500.000000</td>\n",
       "      <td>2406.0</td>\n",
       "      <td>0.0</td>\n",
       "      <td>0.0</td>\n",
       "      <td>0.0</td>\n",
       "      <td>0.0</td>\n",
       "    </tr>\n",
       "    <tr>\n",
       "      <th>91</th>\n",
       "      <td>886520c167fffff</td>\n",
       "      <td>183884.378843</td>\n",
       "      <td>2614.853374</td>\n",
       "      <td>1635.0</td>\n",
       "      <td>0.0</td>\n",
       "      <td>0.0</td>\n",
       "      <td>0.0</td>\n",
       "      <td>0.0</td>\n",
       "    </tr>\n",
       "    <tr>\n",
       "      <th>184</th>\n",
       "      <td>886520c859fffff</td>\n",
       "      <td>834589.851872</td>\n",
       "      <td>9.143456</td>\n",
       "      <td>6.0</td>\n",
       "      <td>0.0</td>\n",
       "      <td>1.0</td>\n",
       "      <td>0.0</td>\n",
       "      <td>1.0</td>\n",
       "    </tr>\n",
       "    <tr>\n",
       "      <th>226</th>\n",
       "      <td>886520c969fffff</td>\n",
       "      <td>651028.857921</td>\n",
       "      <td>586.940948</td>\n",
       "      <td>310.0</td>\n",
       "      <td>0.0</td>\n",
       "      <td>2.0</td>\n",
       "      <td>0.0</td>\n",
       "      <td>2.0</td>\n",
       "    </tr>\n",
       "  </tbody>\n",
       "</table>\n",
       "</div>"
      ],
      "text/plain": [
       "                  h3     total_area  weighted_median_income  population  \\\n",
       "66   886520c12dfffff  757980.495632               91.512028       744.0   \n",
       "90   886520c165fffff  272415.451272             3500.000000      2406.0   \n",
       "91   886520c167fffff  183884.378843             2614.853374      1635.0   \n",
       "184  886520c859fffff  834589.851872                9.143456         6.0   \n",
       "226  886520c969fffff  651028.857921              586.940948       310.0   \n",
       "\n",
       "     poi_count  bus_st_count  subway_st_count  public_transport_stations  \n",
       "66         0.0           1.0              0.0                        1.0  \n",
       "90         0.0           0.0              0.0                        0.0  \n",
       "91         0.0           0.0              0.0                        0.0  \n",
       "184        0.0           1.0              0.0                        1.0  \n",
       "226        0.0           2.0              0.0                        2.0  "
      ]
     },
     "execution_count": 6,
     "metadata": {},
     "output_type": "execute_result"
    }
   ],
   "source": [
    "import pandas as pd\n",
    "\n",
    "# weighted median income = Summation ( area i /(total area in hex) ) * t_mmearn_xi \n",
    "# Step 1: Group by 'h3_index' and calculate the total area, weighted median income, and total population\n",
    "grouped = df.groupby('h3').apply(lambda x: pd.Series({\n",
    "    'total_area': x['area'].sum(),\n",
    "    'weighted_median_income': (x['area'] / x['area'].sum() * x['MEDIAN_INC']).sum(),\n",
    "    'population': x['population'].sum(),\n",
    "    'poi_count': x['NUMPOINTS'].sum(),\n",
    "    'bus_st_count': x['num_bus_st'].sum(),\n",
    "    'subway_st_count': x['num_subway'].max()\n",
    "})).reset_index()\n",
    "\n",
    "sub_weight = grouped['bus_st_count'].sum() / grouped['subway_st_count'].sum() # Subway weight = total number of bus stations / total number of subway stations\n",
    "grouped['public_transport_stations'] = grouped['bus_st_count'] + (sub_weight * grouped['subway_st_count'])\n",
    "grouped = grouped[grouped['weighted_median_income'] != 0]\n",
    "grouped.head()"
   ]
  },
  {
   "cell_type": "code",
   "execution_count": 7,
   "metadata": {
    "hidden": true
   },
   "outputs": [
    {
     "data": {
      "text/html": [
       "<div>\n",
       "<style scoped>\n",
       "    .dataframe tbody tr th:only-of-type {\n",
       "        vertical-align: middle;\n",
       "    }\n",
       "\n",
       "    .dataframe tbody tr th {\n",
       "        vertical-align: top;\n",
       "    }\n",
       "\n",
       "    .dataframe thead th {\n",
       "        text-align: right;\n",
       "    }\n",
       "</style>\n",
       "<table border=\"1\" class=\"dataframe\">\n",
       "  <thead>\n",
       "    <tr style=\"text-align: right;\">\n",
       "      <th></th>\n",
       "      <th>total_area</th>\n",
       "      <th>weighted_median_income</th>\n",
       "      <th>population</th>\n",
       "      <th>poi_count</th>\n",
       "      <th>bus_st_count</th>\n",
       "      <th>subway_st_count</th>\n",
       "      <th>public_transport_stations</th>\n",
       "    </tr>\n",
       "  </thead>\n",
       "  <tbody>\n",
       "    <tr>\n",
       "      <th>count</th>\n",
       "      <td>530.000000</td>\n",
       "      <td>530.000000</td>\n",
       "      <td>530.000000</td>\n",
       "      <td>530.000000</td>\n",
       "      <td>530.000000</td>\n",
       "      <td>530.000000</td>\n",
       "      <td>530.000000</td>\n",
       "    </tr>\n",
       "    <tr>\n",
       "      <th>mean</th>\n",
       "      <td>772332.173014</td>\n",
       "      <td>3559.476769</td>\n",
       "      <td>18974.300000</td>\n",
       "      <td>40.858491</td>\n",
       "      <td>8.411321</td>\n",
       "      <td>0.716981</td>\n",
       "      <td>17.032044</td>\n",
       "    </tr>\n",
       "    <tr>\n",
       "      <th>std</th>\n",
       "      <td>175170.978153</td>\n",
       "      <td>1605.544310</td>\n",
       "      <td>21238.524189</td>\n",
       "      <td>86.343167</td>\n",
       "      <td>6.669958</td>\n",
       "      <td>1.123345</td>\n",
       "      <td>17.417400</td>\n",
       "    </tr>\n",
       "    <tr>\n",
       "      <th>min</th>\n",
       "      <td>2337.571896</td>\n",
       "      <td>0.073853</td>\n",
       "      <td>1.000000</td>\n",
       "      <td>0.000000</td>\n",
       "      <td>0.000000</td>\n",
       "      <td>0.000000</td>\n",
       "      <td>0.000000</td>\n",
       "    </tr>\n",
       "    <tr>\n",
       "      <th>25%</th>\n",
       "      <td>833055.859021</td>\n",
       "      <td>3275.013028</td>\n",
       "      <td>2301.250000</td>\n",
       "      <td>3.000000</td>\n",
       "      <td>2.000000</td>\n",
       "      <td>0.000000</td>\n",
       "      <td>3.000000</td>\n",
       "    </tr>\n",
       "    <tr>\n",
       "      <th>50%</th>\n",
       "      <td>833579.641729</td>\n",
       "      <td>3500.000000</td>\n",
       "      <td>12506.000000</td>\n",
       "      <td>17.000000</td>\n",
       "      <td>8.000000</td>\n",
       "      <td>0.000000</td>\n",
       "      <td>13.000000</td>\n",
       "    </tr>\n",
       "    <tr>\n",
       "      <th>75%</th>\n",
       "      <td>834079.664963</td>\n",
       "      <td>4500.000000</td>\n",
       "      <td>29782.750000</td>\n",
       "      <td>44.750000</td>\n",
       "      <td>13.750000</td>\n",
       "      <td>1.000000</td>\n",
       "      <td>26.023641</td>\n",
       "    </tr>\n",
       "    <tr>\n",
       "      <th>max</th>\n",
       "      <td>834675.217166</td>\n",
       "      <td>11500.000000</td>\n",
       "      <td>115524.000000</td>\n",
       "      <td>1048.000000</td>\n",
       "      <td>31.000000</td>\n",
       "      <td>8.000000</td>\n",
       "      <td>125.189125</td>\n",
       "    </tr>\n",
       "  </tbody>\n",
       "</table>\n",
       "</div>"
      ],
      "text/plain": [
       "          total_area  weighted_median_income     population    poi_count  \\\n",
       "count     530.000000              530.000000     530.000000   530.000000   \n",
       "mean   772332.173014             3559.476769   18974.300000    40.858491   \n",
       "std    175170.978153             1605.544310   21238.524189    86.343167   \n",
       "min      2337.571896                0.073853       1.000000     0.000000   \n",
       "25%    833055.859021             3275.013028    2301.250000     3.000000   \n",
       "50%    833579.641729             3500.000000   12506.000000    17.000000   \n",
       "75%    834079.664963             4500.000000   29782.750000    44.750000   \n",
       "max    834675.217166            11500.000000  115524.000000  1048.000000   \n",
       "\n",
       "       bus_st_count  subway_st_count  public_transport_stations  \n",
       "count    530.000000       530.000000                 530.000000  \n",
       "mean       8.411321         0.716981                  17.032044  \n",
       "std        6.669958         1.123345                  17.417400  \n",
       "min        0.000000         0.000000                   0.000000  \n",
       "25%        2.000000         0.000000                   3.000000  \n",
       "50%        8.000000         0.000000                  13.000000  \n",
       "75%       13.750000         1.000000                  26.023641  \n",
       "max       31.000000         8.000000                 125.189125  "
      ]
     },
     "execution_count": 7,
     "metadata": {},
     "output_type": "execute_result"
    }
   ],
   "source": [
    "grouped.describe()"
   ]
  },
  {
   "cell_type": "code",
   "execution_count": 8,
   "metadata": {
    "hidden": true
   },
   "outputs": [
    {
     "name": "stdout",
     "output_type": "stream",
     "text": [
      "                           weighted_median_income  population  poi_count  \\\n",
      "weighted_median_income                   1.000000    0.073587   0.009983   \n",
      "population                               0.073587    1.000000   0.162076   \n",
      "poi_count                                0.009983    0.162076   1.000000   \n",
      "public_transport_stations                0.129678    0.512902   0.525614   \n",
      "\n",
      "                           public_transport_stations  \n",
      "weighted_median_income                      0.129678  \n",
      "population                                  0.512902  \n",
      "poi_count                                   0.525614  \n",
      "public_transport_stations                   1.000000  \n"
     ]
    }
   ],
   "source": [
    "import pandas as pd\n",
    "import seaborn as sns\n",
    "import matplotlib.pyplot as plt\n",
    "\n",
    "# Calculate the correlation matrix\n",
    "correlation_matrix = grouped[['weighted_median_income', 'population', 'poi_count', 'public_transport_stations']].corr()\n",
    "print(correlation_matrix)"
   ]
  },
  {
   "cell_type": "code",
   "execution_count": 12,
   "metadata": {
    "hidden": true
   },
   "outputs": [
    {
     "name": "stdout",
     "output_type": "stream",
     "text": [
      "Coefficients: [0.00037891 0.08946054]\n",
      "Intercept: 6.219644717234882\n",
      "Mean Squared Error: 102.11987345329206\n",
      "R2 Score: 0.44785483403029425\n"
     ]
    },
    {
     "name": "stderr",
     "output_type": "stream",
     "text": [
      "/tmp/ipykernel_188/1983609005.py:35: MatplotlibDeprecationWarning: The seaborn styles shipped by Matplotlib are deprecated since 3.6, as they no longer correspond to the styles shipped by seaborn. However, they will remain available as 'seaborn-v0_8-<style>'. Alternatively, directly use the seaborn API instead.\n",
      "  plt.style.use('seaborn-darkgrid')\n"
     ]
    },
    {
     "data": {
      "image/png": "[encoded data removed]",
      "text/plain": [
       "<Figure size 1000x800 with 1 Axes>"
      ]
     },
     "metadata": {},
     "output_type": "display_data"
    }
   ],
   "source": [
    "# Now we run a regression of the model\n",
    "import numpy as np\n",
    "import matplotlib.pyplot as plt\n",
    "from sklearn.model_selection import train_test_split\n",
    "from sklearn.linear_model import LinearRegression\n",
    "from sklearn.metrics import mean_squared_error, r2_score\n",
    "\n",
    "# Splitting the dataset into training and testing sets\n",
    "X = grouped[['population','poi_count']]\n",
    "y = grouped['public_transport_stations']\n",
    "X_train, X_test, y_train, y_test = train_test_split(X, y, test_size=0.2, random_state=42)\n",
    "\n",
    "# Training a linear regression model\n",
    "regressor = LinearRegression()\n",
    "regressor.fit(X_train, y_train)\n",
    "\n",
    "# Predicting the population on the testing set\n",
    "y_pred = regressor.predict(X_test)\n",
    "\n",
    "# Printing the coefficients and intercept\n",
    "print(f\"Coefficients: {regressor.coef_}\")\n",
    "print(f\"Intercept: {regressor.intercept_}\")\n",
    "\n",
    "# Calculating and printing the performance metrics\n",
    "mse = mean_squared_error(y_test, y_pred)\n",
    "print(f\"Mean Squared Error: {mean_squared_error(y_test, y_pred)}\")\n",
    "r2 = r2_score(y_test, y_pred)\n",
    "print(f\"R2 Score: {r2_score(y_test, y_pred)}\")\n",
    "\n",
    "# Visualizing the results\n",
    "# Ensure that fonts are large enough to read and the plot is a good size\n",
    "plt.figure(figsize=(10, 8))\n",
    "\n",
    "# Use a consistent and appealing style\n",
    "plt.style.use('seaborn-darkgrid')\n",
    "\n",
    "# Scatter plot with appropriate marker size and edgecolor for better visibility\n",
    "plt.scatter(y_test, y_pred, label='Data points', alpha=0.6, edgecolors='w', s=50)\n",
    "\n",
    "# Ideal fit line with clear color\n",
    "plt.plot([y_test.min(), y_test.max()], [y_test.min(), y_test.max()], 'r--', label='Ideal fit', linewidth=2)\n",
    "\n",
    "# Legend with semi-transparent background\n",
    "legend = plt.legend(frameon=True)\n",
    "legend.get_frame().set_alpha(0.7)\n",
    "legend.get_frame().set_edgecolor('black')\n",
    "\n",
    "# Annotations with buffer space from the edge, larger font size, and a background color for readability\n",
    "plt.text(0.02, 0.89, f'R2 Score: {r2:.2f}', fontsize=12, transform=plt.gca().transAxes,\n",
    "         verticalalignment='top', bbox=dict(boxstyle='round', facecolor='white', alpha=0.5))\n",
    "plt.text(0.02, 0.84, f'Mean Squared Error: {mse:.2f}', fontsize=12, transform=plt.gca().transAxes,\n",
    "         verticalalignment='top', bbox=dict(boxstyle='round', facecolor='white', alpha=0.5))\n",
    "\n",
    "# Axis labels and title with increased font size for better readability\n",
    "plt.xlabel(\"Actual Weighted Public Transport Prevalence\", fontsize=12)\n",
    "plt.ylabel(\"Predicted Weighted Public Transport Prevalence\", fontsize=12)\n",
    "plt.title(\"Singapore Actual vs Predicted Weighted Public Transport Prevalence\", fontsize=14)\n",
    "\n",
    "# Display the grid lines as a background to the plot\n",
    "plt.grid(True, linestyle='--', alpha=0.7)\n",
    "\n",
    "# Show the plot\n",
    "plt.show()"
   ]
  },
  {
   "cell_type": "markdown",
   "metadata": {
    "heading_collapsed": true
   },
   "source": [
    "## Export Clean Grouped Dataset to CVS"
   ]
  },
  {
   "cell_type": "code",
   "execution_count": null,
   "metadata": {
    "hidden": true
   },
   "outputs": [],
   "source": [
    "from IPython.display import FileLink, display\n",
    "grouped.to_csv('singapore.csv', index=False)\n",
    "display(FileLink('singapore.csv'))"
   ]
  },
  {
   "cell_type": "code",
   "execution_count": null,
   "metadata": {
    "hidden": true
   },
   "outputs": [],
   "source": []
  }
 ],
 "metadata": {
  "esriNotebookRuntime": {
   "notebookRuntimeName": "ArcGIS Notebook Python 3 Standard",
   "notebookRuntimeVersion": "9.0"
  },
  "kernelspec": {
   "display_name": "Python 3 (ipykernel)",
   "language": "python",
   "name": "python3"
  },
  "language_info": {
   "codemirror_mode": {
    "name": "ipython",
    "version": 3
   },
   "file_extension": ".py",
   "mimetype": "text/x-python",
   "name": "python",
   "nbconvert_exporter": "python",
   "pygments_lexer": "ipython3",
   "version": "3.9.18"
  }
 },
 "nbformat": 4,
 "nbformat_minor": 2
}
